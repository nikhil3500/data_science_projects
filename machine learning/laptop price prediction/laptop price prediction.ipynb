{
 "cells": [
  {
   "cell_type": "markdown",
   "id": "69365eae",
   "metadata": {},
   "source": [
    "### 1. How can the dataset be imported into .ipynb code using thepandas library?"
   ]
  },
  {
   "cell_type": "code",
   "execution_count": 1,
   "id": "75f83493",
   "metadata": {},
   "outputs": [],
   "source": [
    "import pandas as pd\n",
    "import warnings"
   ]
  },
  {
   "cell_type": "code",
   "execution_count": 2,
   "id": "699c8e1d",
   "metadata": {},
   "outputs": [],
   "source": [
    "warnings.filterwarnings('ignore')"
   ]
  },
  {
   "cell_type": "code",
   "execution_count": 3,
   "id": "e9a4af52",
   "metadata": {},
   "outputs": [],
   "source": [
    "data=pd.read_csv(r\"Laptop Data (2) (1).csv\")"
   ]
  },
  {
   "cell_type": "code",
   "execution_count": 5,
   "id": "b91b11c1",
   "metadata": {
    "scrolled": true
   },
   "outputs": [
    {
     "data": {
      "text/html": [
       "<div>\n",
       "<style scoped>\n",
       "    .dataframe tbody tr th:only-of-type {\n",
       "        vertical-align: middle;\n",
       "    }\n",
       "\n",
       "    .dataframe tbody tr th {\n",
       "        vertical-align: top;\n",
       "    }\n",
       "\n",
       "    .dataframe thead th {\n",
       "        text-align: right;\n",
       "    }\n",
       "</style>\n",
       "<table border=\"1\" class=\"dataframe\">\n",
       "  <thead>\n",
       "    <tr style=\"text-align: right;\">\n",
       "      <th></th>\n",
       "      <th>Unnamed: 0</th>\n",
       "      <th>Name</th>\n",
       "      <th>Brand</th>\n",
       "      <th>Price</th>\n",
       "      <th>Rating</th>\n",
       "      <th>Processor_brand</th>\n",
       "      <th>Processor_gen</th>\n",
       "      <th>Core_per_processor</th>\n",
       "      <th>Energy_Efficient_Units</th>\n",
       "      <th>RAM_GB</th>\n",
       "      <th>RAM_type</th>\n",
       "      <th>Storage_capacity_GB</th>\n",
       "      <th>Storage_type</th>\n",
       "      <th>Graphics_brand</th>\n",
       "      <th>Display_size_inches</th>\n",
       "      <th>Horizontal_pixel</th>\n",
       "      <th>Vertical_pixel</th>\n",
       "      <th>Touch_screen</th>\n",
       "      <th>Operating_system</th>\n",
       "    </tr>\n",
       "  </thead>\n",
       "  <tbody>\n",
       "    <tr>\n",
       "      <th>0</th>\n",
       "      <td>0</td>\n",
       "      <td>HP Victus 15-fb0157AX Gaming Laptop (AMD Ryzen...</td>\n",
       "      <td>HP</td>\n",
       "      <td>50399</td>\n",
       "      <td>4.30</td>\n",
       "      <td>AMD</td>\n",
       "      <td>5.0</td>\n",
       "      <td>6.0</td>\n",
       "      <td>0</td>\n",
       "      <td>8</td>\n",
       "      <td>DDR4</td>\n",
       "      <td>512</td>\n",
       "      <td>SSD</td>\n",
       "      <td>AMD</td>\n",
       "      <td>15.6</td>\n",
       "      <td>1920</td>\n",
       "      <td>1080</td>\n",
       "      <td>True</td>\n",
       "      <td>Windows 11 OS</td>\n",
       "    </tr>\n",
       "    <tr>\n",
       "      <th>1</th>\n",
       "      <td>1</td>\n",
       "      <td>Lenovo V15 G4 ‎82YU00W7IN Laptop (AMD Ryzen 3 ...</td>\n",
       "      <td>Lenovo</td>\n",
       "      <td>26690</td>\n",
       "      <td>4.45</td>\n",
       "      <td>AMD</td>\n",
       "      <td>7.0</td>\n",
       "      <td>4.0</td>\n",
       "      <td>0</td>\n",
       "      <td>8</td>\n",
       "      <td>LPDDR5</td>\n",
       "      <td>512</td>\n",
       "      <td>SSD</td>\n",
       "      <td>AMD</td>\n",
       "      <td>15.6</td>\n",
       "      <td>1920</td>\n",
       "      <td>1080</td>\n",
       "      <td>False</td>\n",
       "      <td>Windows 11 OS</td>\n",
       "    </tr>\n",
       "  </tbody>\n",
       "</table>\n",
       "</div>"
      ],
      "text/plain": [
       "   Unnamed: 0                                               Name   Brand  \\\n",
       "0           0  HP Victus 15-fb0157AX Gaming Laptop (AMD Ryzen...      HP   \n",
       "1           1  Lenovo V15 G4 ‎82YU00W7IN Laptop (AMD Ryzen 3 ...  Lenovo   \n",
       "\n",
       "   Price  Rating Processor_brand  Processor_gen  Core_per_processor  \\\n",
       "0  50399    4.30             AMD            5.0                 6.0   \n",
       "1  26690    4.45             AMD            7.0                 4.0   \n",
       "\n",
       "   Energy_Efficient_Units  RAM_GB RAM_type  Storage_capacity_GB Storage_type  \\\n",
       "0                       0       8     DDR4                  512          SSD   \n",
       "1                       0       8   LPDDR5                  512          SSD   \n",
       "\n",
       "  Graphics_brand  Display_size_inches  Horizontal_pixel  Vertical_pixel  \\\n",
       "0            AMD                 15.6              1920            1080   \n",
       "1            AMD                 15.6              1920            1080   \n",
       "\n",
       "   Touch_screen Operating_system  \n",
       "0          True    Windows 11 OS  \n",
       "1         False    Windows 11 OS  "
      ]
     },
     "execution_count": 5,
     "metadata": {},
     "output_type": "execute_result"
    }
   ],
   "source": [
    "data.head(2)"
   ]
  },
  {
   "cell_type": "markdown",
   "id": "c7dfdfad",
   "metadata": {},
   "source": [
    "### 2.Considering the nature of the dataset, would it be more suitable to employ Supervised or Unsupervised Machine Learning techniques?"
   ]
  },
  {
   "cell_type": "markdown",
   "id": "13d5a534",
   "metadata": {},
   "source": [
    " Answer - dataset have labeled data such as price, rating, processor type, etc. supervised learning would be more appropriate because we can predict target variable based on given dataset."
   ]
  },
  {
   "cell_type": "markdown",
   "id": "076e4fc5",
   "metadata": {},
   "source": [
    "### 3. If Supervised learning is deemed appropriate, what type of problem statement does it represent - Regression or Classification?"
   ]
  },
  {
   "cell_type": "markdown",
   "id": "f9958a49",
   "metadata": {},
   "source": [
    "Answer - If we want to predict a continuous value, like Price, it represents a Regression problem. \n",
    "If we want to predicting a categorical variable, like brand classification, then it would be a Classification problem.\n",
    "for this case, predicting price would be a Regression problem."
   ]
  },
  {
   "cell_type": "markdown",
   "id": "f76ed491",
   "metadata": {},
   "source": [
    "### 4. What methods can be employed to assess the quality of the data, including its shape and data types?"
   ]
  },
  {
   "cell_type": "code",
   "execution_count": 6,
   "id": "aa7235a0",
   "metadata": {},
   "outputs": [
    {
     "data": {
      "text/plain": [
       "(1020, 19)"
      ]
     },
     "execution_count": 6,
     "metadata": {},
     "output_type": "execute_result"
    }
   ],
   "source": [
    "#we can use to check shape of the dataset rows, columns\n",
    "data.shape"
   ]
  },
  {
   "cell_type": "code",
   "execution_count": 7,
   "id": "386511f8",
   "metadata": {},
   "outputs": [
    {
     "data": {
      "text/html": [
       "<div>\n",
       "<style scoped>\n",
       "    .dataframe tbody tr th:only-of-type {\n",
       "        vertical-align: middle;\n",
       "    }\n",
       "\n",
       "    .dataframe tbody tr th {\n",
       "        vertical-align: top;\n",
       "    }\n",
       "\n",
       "    .dataframe thead th {\n",
       "        text-align: right;\n",
       "    }\n",
       "</style>\n",
       "<table border=\"1\" class=\"dataframe\">\n",
       "  <thead>\n",
       "    <tr style=\"text-align: right;\">\n",
       "      <th></th>\n",
       "      <th>Unnamed: 0</th>\n",
       "      <th>Price</th>\n",
       "      <th>Rating</th>\n",
       "      <th>Processor_gen</th>\n",
       "      <th>Core_per_processor</th>\n",
       "      <th>Energy_Efficient_Units</th>\n",
       "      <th>RAM_GB</th>\n",
       "      <th>Storage_capacity_GB</th>\n",
       "      <th>Display_size_inches</th>\n",
       "      <th>Horizontal_pixel</th>\n",
       "      <th>Vertical_pixel</th>\n",
       "    </tr>\n",
       "  </thead>\n",
       "  <tbody>\n",
       "    <tr>\n",
       "      <th>count</th>\n",
       "      <td>1020.000000</td>\n",
       "      <td>1020.000000</td>\n",
       "      <td>1020.000000</td>\n",
       "      <td>891.000000</td>\n",
       "      <td>1008.000000</td>\n",
       "      <td>1020.000000</td>\n",
       "      <td>1020.000000</td>\n",
       "      <td>1020.000000</td>\n",
       "      <td>1020.000000</td>\n",
       "      <td>1020.000000</td>\n",
       "      <td>1020.000000</td>\n",
       "    </tr>\n",
       "    <tr>\n",
       "      <th>mean</th>\n",
       "      <td>509.500000</td>\n",
       "      <td>82063.474510</td>\n",
       "      <td>4.373676</td>\n",
       "      <td>10.450056</td>\n",
       "      <td>8.572421</td>\n",
       "      <td>0.043137</td>\n",
       "      <td>13.992157</td>\n",
       "      <td>627.733333</td>\n",
       "      <td>15.163775</td>\n",
       "      <td>2035.512745</td>\n",
       "      <td>1214.019608</td>\n",
       "    </tr>\n",
       "    <tr>\n",
       "      <th>std</th>\n",
       "      <td>294.592939</td>\n",
       "      <td>66502.150607</td>\n",
       "      <td>0.233295</td>\n",
       "      <td>2.966579</td>\n",
       "      <td>4.375012</td>\n",
       "      <td>0.203266</td>\n",
       "      <td>7.189564</td>\n",
       "      <td>316.911679</td>\n",
       "      <td>1.001537</td>\n",
       "      <td>409.209289</td>\n",
       "      <td>306.863086</td>\n",
       "    </tr>\n",
       "    <tr>\n",
       "      <th>min</th>\n",
       "      <td>0.000000</td>\n",
       "      <td>8000.000000</td>\n",
       "      <td>3.950000</td>\n",
       "      <td>1.000000</td>\n",
       "      <td>2.000000</td>\n",
       "      <td>0.000000</td>\n",
       "      <td>2.000000</td>\n",
       "      <td>32.000000</td>\n",
       "      <td>11.600000</td>\n",
       "      <td>1080.000000</td>\n",
       "      <td>768.000000</td>\n",
       "    </tr>\n",
       "    <tr>\n",
       "      <th>25%</th>\n",
       "      <td>254.750000</td>\n",
       "      <td>43990.000000</td>\n",
       "      <td>4.200000</td>\n",
       "      <td>7.000000</td>\n",
       "      <td>6.000000</td>\n",
       "      <td>0.000000</td>\n",
       "      <td>8.000000</td>\n",
       "      <td>512.000000</td>\n",
       "      <td>14.000000</td>\n",
       "      <td>1920.000000</td>\n",
       "      <td>1080.000000</td>\n",
       "    </tr>\n",
       "    <tr>\n",
       "      <th>50%</th>\n",
       "      <td>509.500000</td>\n",
       "      <td>63689.500000</td>\n",
       "      <td>4.350000</td>\n",
       "      <td>12.000000</td>\n",
       "      <td>8.000000</td>\n",
       "      <td>0.000000</td>\n",
       "      <td>16.000000</td>\n",
       "      <td>512.000000</td>\n",
       "      <td>15.600000</td>\n",
       "      <td>1920.000000</td>\n",
       "      <td>1080.000000</td>\n",
       "    </tr>\n",
       "    <tr>\n",
       "      <th>75%</th>\n",
       "      <td>764.250000</td>\n",
       "      <td>94990.000000</td>\n",
       "      <td>4.550000</td>\n",
       "      <td>13.000000</td>\n",
       "      <td>10.000000</td>\n",
       "      <td>0.000000</td>\n",
       "      <td>16.000000</td>\n",
       "      <td>512.000000</td>\n",
       "      <td>15.600000</td>\n",
       "      <td>1920.000000</td>\n",
       "      <td>1200.000000</td>\n",
       "    </tr>\n",
       "    <tr>\n",
       "      <th>max</th>\n",
       "      <td>1019.000000</td>\n",
       "      <td>599990.000000</td>\n",
       "      <td>4.750000</td>\n",
       "      <td>14.000000</td>\n",
       "      <td>24.000000</td>\n",
       "      <td>1.000000</td>\n",
       "      <td>64.000000</td>\n",
       "      <td>4000.000000</td>\n",
       "      <td>18.000000</td>\n",
       "      <td>3840.000000</td>\n",
       "      <td>2560.000000</td>\n",
       "    </tr>\n",
       "  </tbody>\n",
       "</table>\n",
       "</div>"
      ],
      "text/plain": [
       "        Unnamed: 0          Price       Rating  Processor_gen  \\\n",
       "count  1020.000000    1020.000000  1020.000000     891.000000   \n",
       "mean    509.500000   82063.474510     4.373676      10.450056   \n",
       "std     294.592939   66502.150607     0.233295       2.966579   \n",
       "min       0.000000    8000.000000     3.950000       1.000000   \n",
       "25%     254.750000   43990.000000     4.200000       7.000000   \n",
       "50%     509.500000   63689.500000     4.350000      12.000000   \n",
       "75%     764.250000   94990.000000     4.550000      13.000000   \n",
       "max    1019.000000  599990.000000     4.750000      14.000000   \n",
       "\n",
       "       Core_per_processor  Energy_Efficient_Units       RAM_GB  \\\n",
       "count         1008.000000             1020.000000  1020.000000   \n",
       "mean             8.572421                0.043137    13.992157   \n",
       "std              4.375012                0.203266     7.189564   \n",
       "min              2.000000                0.000000     2.000000   \n",
       "25%              6.000000                0.000000     8.000000   \n",
       "50%              8.000000                0.000000    16.000000   \n",
       "75%             10.000000                0.000000    16.000000   \n",
       "max             24.000000                1.000000    64.000000   \n",
       "\n",
       "       Storage_capacity_GB  Display_size_inches  Horizontal_pixel  \\\n",
       "count          1020.000000          1020.000000       1020.000000   \n",
       "mean            627.733333            15.163775       2035.512745   \n",
       "std             316.911679             1.001537        409.209289   \n",
       "min              32.000000            11.600000       1080.000000   \n",
       "25%             512.000000            14.000000       1920.000000   \n",
       "50%             512.000000            15.600000       1920.000000   \n",
       "75%             512.000000            15.600000       1920.000000   \n",
       "max            4000.000000            18.000000       3840.000000   \n",
       "\n",
       "       Vertical_pixel  \n",
       "count     1020.000000  \n",
       "mean      1214.019608  \n",
       "std        306.863086  \n",
       "min        768.000000  \n",
       "25%       1080.000000  \n",
       "50%       1080.000000  \n",
       "75%       1200.000000  \n",
       "max       2560.000000  "
      ]
     },
     "execution_count": 7,
     "metadata": {},
     "output_type": "execute_result"
    }
   ],
   "source": [
    "#we can use describe() function Summary statistics of numerical columns\n",
    "data.describe()"
   ]
  },
  {
   "cell_type": "markdown",
   "id": "286c6542",
   "metadata": {},
   "source": [
    "### 5. How can null values within the dataset be identified and handled effectively?"
   ]
  },
  {
   "cell_type": "code",
   "execution_count": 22,
   "id": "ece9e3a1",
   "metadata": {},
   "outputs": [],
   "source": [
    "# Below we can check any column contains null value or not and count of it. below 4 colmns that contains null values\n",
    "# below Processor_gen        129\n",
    "# Core_per_processor         12\n",
    "# RAM_type                   22\n",
    "# Graphics_brand              2\n",
    "\n",
    "# So Processor_gen , Core_per_processor , RAM_type , Graphics_brand can effect in other columns \n",
    "# like we can not fill this data with mean or avg or median and other beacuse if this data can chnage price , \n",
    "# rating , Energy Efficiency and many other factors that depend upon this columns.\n",
    "\n",
    "#So we can drop this data from dataset.\n"
   ]
  },
  {
   "cell_type": "code",
   "execution_count": 10,
   "id": "eb064be1",
   "metadata": {
    "scrolled": true
   },
   "outputs": [
    {
     "data": {
      "text/plain": [
       "Unnamed: 0                0\n",
       "Name                      0\n",
       "Brand                     0\n",
       "Price                     0\n",
       "Rating                    0\n",
       "Processor_brand           0\n",
       "Processor_gen             0\n",
       "Core_per_processor        0\n",
       "Energy_Efficient_Units    0\n",
       "RAM_GB                    0\n",
       "RAM_type                  0\n",
       "Storage_capacity_GB       0\n",
       "Storage_type              0\n",
       "Graphics_brand            0\n",
       "Display_size_inches       0\n",
       "Horizontal_pixel          0\n",
       "Vertical_pixel            0\n",
       "Touch_screen              0\n",
       "Operating_system          0\n",
       "dtype: int64"
      ]
     },
     "execution_count": 10,
     "metadata": {},
     "output_type": "execute_result"
    }
   ],
   "source": [
    "data.isnull().sum()"
   ]
  },
  {
   "cell_type": "code",
   "execution_count": 9,
   "id": "1b617ca0",
   "metadata": {},
   "outputs": [],
   "source": [
    "import numpy as np\n",
    "\n",
    "data =data.replace('Nan', np.nan)\n",
    "data = data.dropna()"
   ]
  },
  {
   "cell_type": "code",
   "execution_count": 11,
   "id": "35fc3e67",
   "metadata": {},
   "outputs": [
    {
     "data": {
      "text/plain": [
       "Index(['Unnamed: 0', 'Name', 'Brand', 'Price', 'Rating', 'Processor_brand',\n",
       "       'Processor_gen', 'Core_per_processor', 'Energy_Efficient_Units',\n",
       "       'RAM_GB', 'RAM_type', 'Storage_capacity_GB', 'Storage_type',\n",
       "       'Graphics_brand', 'Display_size_inches', 'Horizontal_pixel',\n",
       "       'Vertical_pixel', 'Touch_screen', 'Operating_system'],\n",
       "      dtype='object')"
      ]
     },
     "execution_count": 11,
     "metadata": {},
     "output_type": "execute_result"
    }
   ],
   "source": [
    "data.columns"
   ]
  },
  {
   "cell_type": "code",
   "execution_count": 12,
   "id": "567b7413",
   "metadata": {},
   "outputs": [],
   "source": [
    "data.drop(\"Unnamed: 0\",axis=1,inplace=True)"
   ]
  },
  {
   "cell_type": "code",
   "execution_count": 13,
   "id": "ded1a4d6",
   "metadata": {},
   "outputs": [
    {
     "data": {
      "text/html": [
       "<div>\n",
       "<style scoped>\n",
       "    .dataframe tbody tr th:only-of-type {\n",
       "        vertical-align: middle;\n",
       "    }\n",
       "\n",
       "    .dataframe tbody tr th {\n",
       "        vertical-align: top;\n",
       "    }\n",
       "\n",
       "    .dataframe thead th {\n",
       "        text-align: right;\n",
       "    }\n",
       "</style>\n",
       "<table border=\"1\" class=\"dataframe\">\n",
       "  <thead>\n",
       "    <tr style=\"text-align: right;\">\n",
       "      <th></th>\n",
       "      <th>Name</th>\n",
       "      <th>Brand</th>\n",
       "      <th>Price</th>\n",
       "      <th>Rating</th>\n",
       "      <th>Processor_brand</th>\n",
       "      <th>Processor_gen</th>\n",
       "      <th>Core_per_processor</th>\n",
       "      <th>Energy_Efficient_Units</th>\n",
       "      <th>RAM_GB</th>\n",
       "      <th>RAM_type</th>\n",
       "      <th>Storage_capacity_GB</th>\n",
       "      <th>Storage_type</th>\n",
       "      <th>Graphics_brand</th>\n",
       "      <th>Display_size_inches</th>\n",
       "      <th>Horizontal_pixel</th>\n",
       "      <th>Vertical_pixel</th>\n",
       "      <th>Touch_screen</th>\n",
       "      <th>Operating_system</th>\n",
       "    </tr>\n",
       "  </thead>\n",
       "  <tbody>\n",
       "    <tr>\n",
       "      <th>0</th>\n",
       "      <td>HP Victus 15-fb0157AX Gaming Laptop (AMD Ryzen...</td>\n",
       "      <td>HP</td>\n",
       "      <td>50399</td>\n",
       "      <td>4.30</td>\n",
       "      <td>AMD</td>\n",
       "      <td>5.0</td>\n",
       "      <td>6.0</td>\n",
       "      <td>0</td>\n",
       "      <td>8</td>\n",
       "      <td>DDR4</td>\n",
       "      <td>512</td>\n",
       "      <td>SSD</td>\n",
       "      <td>AMD</td>\n",
       "      <td>15.6</td>\n",
       "      <td>1920</td>\n",
       "      <td>1080</td>\n",
       "      <td>True</td>\n",
       "      <td>Windows 11 OS</td>\n",
       "    </tr>\n",
       "    <tr>\n",
       "      <th>1</th>\n",
       "      <td>Lenovo V15 G4 ‎82YU00W7IN Laptop (AMD Ryzen 3 ...</td>\n",
       "      <td>Lenovo</td>\n",
       "      <td>26690</td>\n",
       "      <td>4.45</td>\n",
       "      <td>AMD</td>\n",
       "      <td>7.0</td>\n",
       "      <td>4.0</td>\n",
       "      <td>0</td>\n",
       "      <td>8</td>\n",
       "      <td>LPDDR5</td>\n",
       "      <td>512</td>\n",
       "      <td>SSD</td>\n",
       "      <td>AMD</td>\n",
       "      <td>15.6</td>\n",
       "      <td>1920</td>\n",
       "      <td>1080</td>\n",
       "      <td>False</td>\n",
       "      <td>Windows 11 OS</td>\n",
       "    </tr>\n",
       "  </tbody>\n",
       "</table>\n",
       "</div>"
      ],
      "text/plain": [
       "                                                Name   Brand  Price  Rating  \\\n",
       "0  HP Victus 15-fb0157AX Gaming Laptop (AMD Ryzen...      HP  50399    4.30   \n",
       "1  Lenovo V15 G4 ‎82YU00W7IN Laptop (AMD Ryzen 3 ...  Lenovo  26690    4.45   \n",
       "\n",
       "  Processor_brand  Processor_gen  Core_per_processor  Energy_Efficient_Units  \\\n",
       "0             AMD            5.0                 6.0                       0   \n",
       "1             AMD            7.0                 4.0                       0   \n",
       "\n",
       "   RAM_GB RAM_type  Storage_capacity_GB Storage_type Graphics_brand  \\\n",
       "0       8     DDR4                  512          SSD            AMD   \n",
       "1       8   LPDDR5                  512          SSD            AMD   \n",
       "\n",
       "   Display_size_inches  Horizontal_pixel  Vertical_pixel  Touch_screen  \\\n",
       "0                 15.6              1920            1080          True   \n",
       "1                 15.6              1920            1080         False   \n",
       "\n",
       "  Operating_system  \n",
       "0    Windows 11 OS  \n",
       "1    Windows 11 OS  "
      ]
     },
     "execution_count": 13,
     "metadata": {},
     "output_type": "execute_result"
    }
   ],
   "source": [
    "data.head(2)"
   ]
  },
  {
   "cell_type": "markdown",
   "id": "4aaace8a",
   "metadata": {},
   "source": [
    "### 6. Appropriate form of analysis should be presented and descripted in form of comments headings and analysis?\n"
   ]
  },
  {
   "cell_type": "code",
   "execution_count": 14,
   "id": "2b1cb235",
   "metadata": {
    "scrolled": true
   },
   "outputs": [
    {
     "data": {
      "text/html": [
       "<div>\n",
       "<style scoped>\n",
       "    .dataframe tbody tr th:only-of-type {\n",
       "        vertical-align: middle;\n",
       "    }\n",
       "\n",
       "    .dataframe tbody tr th {\n",
       "        vertical-align: top;\n",
       "    }\n",
       "\n",
       "    .dataframe thead th {\n",
       "        text-align: right;\n",
       "    }\n",
       "</style>\n",
       "<table border=\"1\" class=\"dataframe\">\n",
       "  <thead>\n",
       "    <tr style=\"text-align: right;\">\n",
       "      <th></th>\n",
       "      <th>Price</th>\n",
       "      <th>Rating</th>\n",
       "      <th>Processor_gen</th>\n",
       "      <th>Core_per_processor</th>\n",
       "      <th>Energy_Efficient_Units</th>\n",
       "      <th>RAM_GB</th>\n",
       "      <th>Storage_capacity_GB</th>\n",
       "      <th>Display_size_inches</th>\n",
       "      <th>Horizontal_pixel</th>\n",
       "      <th>Vertical_pixel</th>\n",
       "    </tr>\n",
       "  </thead>\n",
       "  <tbody>\n",
       "    <tr>\n",
       "      <th>count</th>\n",
       "      <td>877.000000</td>\n",
       "      <td>877.000000</td>\n",
       "      <td>877.000000</td>\n",
       "      <td>877.000000</td>\n",
       "      <td>877.000000</td>\n",
       "      <td>877.000000</td>\n",
       "      <td>877.000000</td>\n",
       "      <td>877.000000</td>\n",
       "      <td>877.000000</td>\n",
       "      <td>877.000000</td>\n",
       "    </tr>\n",
       "    <tr>\n",
       "      <th>mean</th>\n",
       "      <td>80217.508552</td>\n",
       "      <td>4.370639</td>\n",
       "      <td>10.421893</td>\n",
       "      <td>8.503991</td>\n",
       "      <td>0.001140</td>\n",
       "      <td>14.034208</td>\n",
       "      <td>636.980616</td>\n",
       "      <td>15.252851</td>\n",
       "      <td>2012.127708</td>\n",
       "      <td>1195.708096</td>\n",
       "    </tr>\n",
       "    <tr>\n",
       "      <th>std</th>\n",
       "      <td>63029.543721</td>\n",
       "      <td>0.232176</td>\n",
       "      <td>2.979362</td>\n",
       "      <td>4.187015</td>\n",
       "      <td>0.033768</td>\n",
       "      <td>6.764379</td>\n",
       "      <td>298.888544</td>\n",
       "      <td>0.910387</td>\n",
       "      <td>361.202573</td>\n",
       "      <td>277.353222</td>\n",
       "    </tr>\n",
       "    <tr>\n",
       "      <th>min</th>\n",
       "      <td>18990.000000</td>\n",
       "      <td>3.950000</td>\n",
       "      <td>1.000000</td>\n",
       "      <td>2.000000</td>\n",
       "      <td>0.000000</td>\n",
       "      <td>4.000000</td>\n",
       "      <td>128.000000</td>\n",
       "      <td>12.000000</td>\n",
       "      <td>1080.000000</td>\n",
       "      <td>768.000000</td>\n",
       "    </tr>\n",
       "    <tr>\n",
       "      <th>25%</th>\n",
       "      <td>45390.000000</td>\n",
       "      <td>4.150000</td>\n",
       "      <td>7.000000</td>\n",
       "      <td>6.000000</td>\n",
       "      <td>0.000000</td>\n",
       "      <td>8.000000</td>\n",
       "      <td>512.000000</td>\n",
       "      <td>14.000000</td>\n",
       "      <td>1920.000000</td>\n",
       "      <td>1080.000000</td>\n",
       "    </tr>\n",
       "    <tr>\n",
       "      <th>50%</th>\n",
       "      <td>62842.000000</td>\n",
       "      <td>4.350000</td>\n",
       "      <td>12.000000</td>\n",
       "      <td>8.000000</td>\n",
       "      <td>0.000000</td>\n",
       "      <td>16.000000</td>\n",
       "      <td>512.000000</td>\n",
       "      <td>15.600000</td>\n",
       "      <td>1920.000000</td>\n",
       "      <td>1080.000000</td>\n",
       "    </tr>\n",
       "    <tr>\n",
       "      <th>75%</th>\n",
       "      <td>89990.000000</td>\n",
       "      <td>4.550000</td>\n",
       "      <td>13.000000</td>\n",
       "      <td>10.000000</td>\n",
       "      <td>0.000000</td>\n",
       "      <td>16.000000</td>\n",
       "      <td>512.000000</td>\n",
       "      <td>15.600000</td>\n",
       "      <td>1920.000000</td>\n",
       "      <td>1200.000000</td>\n",
       "    </tr>\n",
       "    <tr>\n",
       "      <th>max</th>\n",
       "      <td>519990.000000</td>\n",
       "      <td>4.750000</td>\n",
       "      <td>14.000000</td>\n",
       "      <td>24.000000</td>\n",
       "      <td>1.000000</td>\n",
       "      <td>64.000000</td>\n",
       "      <td>4000.000000</td>\n",
       "      <td>18.000000</td>\n",
       "      <td>3840.000000</td>\n",
       "      <td>2560.000000</td>\n",
       "    </tr>\n",
       "  </tbody>\n",
       "</table>\n",
       "</div>"
      ],
      "text/plain": [
       "               Price      Rating  Processor_gen  Core_per_processor  \\\n",
       "count     877.000000  877.000000     877.000000          877.000000   \n",
       "mean    80217.508552    4.370639      10.421893            8.503991   \n",
       "std     63029.543721    0.232176       2.979362            4.187015   \n",
       "min     18990.000000    3.950000       1.000000            2.000000   \n",
       "25%     45390.000000    4.150000       7.000000            6.000000   \n",
       "50%     62842.000000    4.350000      12.000000            8.000000   \n",
       "75%     89990.000000    4.550000      13.000000           10.000000   \n",
       "max    519990.000000    4.750000      14.000000           24.000000   \n",
       "\n",
       "       Energy_Efficient_Units      RAM_GB  Storage_capacity_GB  \\\n",
       "count              877.000000  877.000000           877.000000   \n",
       "mean                 0.001140   14.034208           636.980616   \n",
       "std                  0.033768    6.764379           298.888544   \n",
       "min                  0.000000    4.000000           128.000000   \n",
       "25%                  0.000000    8.000000           512.000000   \n",
       "50%                  0.000000   16.000000           512.000000   \n",
       "75%                  0.000000   16.000000           512.000000   \n",
       "max                  1.000000   64.000000          4000.000000   \n",
       "\n",
       "       Display_size_inches  Horizontal_pixel  Vertical_pixel  \n",
       "count           877.000000        877.000000      877.000000  \n",
       "mean             15.252851       2012.127708     1195.708096  \n",
       "std               0.910387        361.202573      277.353222  \n",
       "min              12.000000       1080.000000      768.000000  \n",
       "25%              14.000000       1920.000000     1080.000000  \n",
       "50%              15.600000       1920.000000     1080.000000  \n",
       "75%              15.600000       1920.000000     1200.000000  \n",
       "max              18.000000       3840.000000     2560.000000  "
      ]
     },
     "execution_count": 14,
     "metadata": {},
     "output_type": "execute_result"
    }
   ],
   "source": [
    "# Get a basic overview of the dataset\n",
    "data.describe()"
   ]
  },
  {
   "cell_type": "code",
   "execution_count": 15,
   "id": "c9242f99",
   "metadata": {},
   "outputs": [
    {
     "data": {
      "text/plain": [
       "<Axes: ylabel='Frequency'>"
      ]
     },
     "execution_count": 15,
     "metadata": {},
     "output_type": "execute_result"
    },
    {
     "data": {
      "image/png": "[encoded data removed]",
      "text/plain": [
       "<Figure size 640x480 with 1 Axes>"
      ]
     },
     "metadata": {},
     "output_type": "display_data"
    }
   ],
   "source": [
    "# Checking distribution of the 'Price' column\n",
    "data['Price'].plot(kind='hist', bins=50)"
   ]
  },
  {
   "cell_type": "markdown",
   "id": "7d99c57f",
   "metadata": {},
   "source": [
    "### 7. What techniques can be utilized to detect and eliminate any outliers present in the dataset?\n"
   ]
  },
  {
   "cell_type": "code",
   "execution_count": null,
   "id": "ed58b3d5",
   "metadata": {},
   "outputs": [],
   "source": [
    "#To detect outliers, we can use z-test , boundry , IQR methods."
   ]
  },
  {
   "cell_type": "code",
   "execution_count": 17,
   "id": "98246127",
   "metadata": {},
   "outputs": [],
   "source": [
    "# Calculate IQR\n",
    "Q1 = data['Price'].quantile(0.25)\n",
    "Q3 = data['Price'].quantile(0.75)\n",
    "IQR = Q3 - Q1\n",
    "lb = Q1 - 1.5 * IQR\n",
    "ub = Q3 + 1.5 * IQR"
   ]
  },
  {
   "cell_type": "code",
   "execution_count": 18,
   "id": "9eed201f",
   "metadata": {
    "scrolled": true
   },
   "outputs": [
    {
     "data": {
      "text/html": [
       "<div>\n",
       "<style scoped>\n",
       "    .dataframe tbody tr th:only-of-type {\n",
       "        vertical-align: middle;\n",
       "    }\n",
       "\n",
       "    .dataframe tbody tr th {\n",
       "        vertical-align: top;\n",
       "    }\n",
       "\n",
       "    .dataframe thead th {\n",
       "        text-align: right;\n",
       "    }\n",
       "</style>\n",
       "<table border=\"1\" class=\"dataframe\">\n",
       "  <thead>\n",
       "    <tr style=\"text-align: right;\">\n",
       "      <th></th>\n",
       "      <th>Name</th>\n",
       "      <th>Brand</th>\n",
       "      <th>Price</th>\n",
       "      <th>Rating</th>\n",
       "      <th>Processor_brand</th>\n",
       "      <th>Processor_gen</th>\n",
       "      <th>Core_per_processor</th>\n",
       "      <th>Energy_Efficient_Units</th>\n",
       "      <th>RAM_GB</th>\n",
       "      <th>RAM_type</th>\n",
       "      <th>Storage_capacity_GB</th>\n",
       "      <th>Storage_type</th>\n",
       "      <th>Graphics_brand</th>\n",
       "      <th>Display_size_inches</th>\n",
       "      <th>Horizontal_pixel</th>\n",
       "      <th>Vertical_pixel</th>\n",
       "      <th>Touch_screen</th>\n",
       "      <th>Operating_system</th>\n",
       "    </tr>\n",
       "  </thead>\n",
       "  <tbody>\n",
       "    <tr>\n",
       "      <th>0</th>\n",
       "      <td>HP Victus 15-fb0157AX Gaming Laptop (AMD Ryzen...</td>\n",
       "      <td>HP</td>\n",
       "      <td>50399</td>\n",
       "      <td>4.30</td>\n",
       "      <td>AMD</td>\n",
       "      <td>5.0</td>\n",
       "      <td>6.0</td>\n",
       "      <td>0</td>\n",
       "      <td>8</td>\n",
       "      <td>DDR4</td>\n",
       "      <td>512</td>\n",
       "      <td>SSD</td>\n",
       "      <td>AMD</td>\n",
       "      <td>15.6</td>\n",
       "      <td>1920</td>\n",
       "      <td>1080</td>\n",
       "      <td>True</td>\n",
       "      <td>Windows 11 OS</td>\n",
       "    </tr>\n",
       "    <tr>\n",
       "      <th>1</th>\n",
       "      <td>Lenovo V15 G4 ‎82YU00W7IN Laptop (AMD Ryzen 3 ...</td>\n",
       "      <td>Lenovo</td>\n",
       "      <td>26690</td>\n",
       "      <td>4.45</td>\n",
       "      <td>AMD</td>\n",
       "      <td>7.0</td>\n",
       "      <td>4.0</td>\n",
       "      <td>0</td>\n",
       "      <td>8</td>\n",
       "      <td>LPDDR5</td>\n",
       "      <td>512</td>\n",
       "      <td>SSD</td>\n",
       "      <td>AMD</td>\n",
       "      <td>15.6</td>\n",
       "      <td>1920</td>\n",
       "      <td>1080</td>\n",
       "      <td>False</td>\n",
       "      <td>Windows 11 OS</td>\n",
       "    </tr>\n",
       "    <tr>\n",
       "      <th>2</th>\n",
       "      <td>HP 15s-fq5007TU Laptop (12th Gen Core i3/ 8GB/...</td>\n",
       "      <td>HP</td>\n",
       "      <td>37012</td>\n",
       "      <td>4.65</td>\n",
       "      <td>Intel</td>\n",
       "      <td>12.0</td>\n",
       "      <td>6.0</td>\n",
       "      <td>0</td>\n",
       "      <td>8</td>\n",
       "      <td>DDR4</td>\n",
       "      <td>512</td>\n",
       "      <td>SSD</td>\n",
       "      <td>Intel</td>\n",
       "      <td>15.6</td>\n",
       "      <td>1920</td>\n",
       "      <td>1080</td>\n",
       "      <td>False</td>\n",
       "      <td>Windows 11 OS</td>\n",
       "    </tr>\n",
       "    <tr>\n",
       "      <th>3</th>\n",
       "      <td>Samsung Galaxy Book2 Pro 13 Laptop (12th Gen C...</td>\n",
       "      <td>Samsung</td>\n",
       "      <td>69990</td>\n",
       "      <td>4.75</td>\n",
       "      <td>Intel</td>\n",
       "      <td>12.0</td>\n",
       "      <td>12.0</td>\n",
       "      <td>0</td>\n",
       "      <td>16</td>\n",
       "      <td>LPDDR5</td>\n",
       "      <td>512</td>\n",
       "      <td>SSD</td>\n",
       "      <td>Intel</td>\n",
       "      <td>13.3</td>\n",
       "      <td>1080</td>\n",
       "      <td>1920</td>\n",
       "      <td>False</td>\n",
       "      <td>Windows 11 OS</td>\n",
       "    </tr>\n",
       "    <tr>\n",
       "      <th>4</th>\n",
       "      <td>Tecno Megabook T1 Laptop (11th Gen Core i3/ 8G...</td>\n",
       "      <td>Tecno</td>\n",
       "      <td>23990</td>\n",
       "      <td>4.25</td>\n",
       "      <td>Intel</td>\n",
       "      <td>11.0</td>\n",
       "      <td>2.0</td>\n",
       "      <td>0</td>\n",
       "      <td>8</td>\n",
       "      <td>LPDDR4</td>\n",
       "      <td>512</td>\n",
       "      <td>SSD</td>\n",
       "      <td>Intel</td>\n",
       "      <td>15.6</td>\n",
       "      <td>1920</td>\n",
       "      <td>1080</td>\n",
       "      <td>False</td>\n",
       "      <td>Windows 11 OS</td>\n",
       "    </tr>\n",
       "  </tbody>\n",
       "</table>\n",
       "</div>"
      ],
      "text/plain": [
       "                                                Name    Brand  Price  Rating  \\\n",
       "0  HP Victus 15-fb0157AX Gaming Laptop (AMD Ryzen...       HP  50399    4.30   \n",
       "1  Lenovo V15 G4 ‎82YU00W7IN Laptop (AMD Ryzen 3 ...   Lenovo  26690    4.45   \n",
       "2  HP 15s-fq5007TU Laptop (12th Gen Core i3/ 8GB/...       HP  37012    4.65   \n",
       "3  Samsung Galaxy Book2 Pro 13 Laptop (12th Gen C...  Samsung  69990    4.75   \n",
       "4  Tecno Megabook T1 Laptop (11th Gen Core i3/ 8G...    Tecno  23990    4.25   \n",
       "\n",
       "  Processor_brand  Processor_gen  Core_per_processor  Energy_Efficient_Units  \\\n",
       "0             AMD            5.0                 6.0                       0   \n",
       "1             AMD            7.0                 4.0                       0   \n",
       "2           Intel           12.0                 6.0                       0   \n",
       "3           Intel           12.0                12.0                       0   \n",
       "4           Intel           11.0                 2.0                       0   \n",
       "\n",
       "   RAM_GB RAM_type  Storage_capacity_GB Storage_type Graphics_brand  \\\n",
       "0       8     DDR4                  512          SSD            AMD   \n",
       "1       8   LPDDR5                  512          SSD            AMD   \n",
       "2       8     DDR4                  512          SSD          Intel   \n",
       "3      16   LPDDR5                  512          SSD          Intel   \n",
       "4       8   LPDDR4                  512          SSD          Intel   \n",
       "\n",
       "   Display_size_inches  Horizontal_pixel  Vertical_pixel  Touch_screen  \\\n",
       "0                 15.6              1920            1080          True   \n",
       "1                 15.6              1920            1080         False   \n",
       "2                 15.6              1920            1080         False   \n",
       "3                 13.3              1080            1920         False   \n",
       "4                 15.6              1920            1080         False   \n",
       "\n",
       "  Operating_system  \n",
       "0    Windows 11 OS  \n",
       "1    Windows 11 OS  \n",
       "2    Windows 11 OS  \n",
       "3    Windows 11 OS  \n",
       "4    Windows 11 OS  "
      ]
     },
     "execution_count": 18,
     "metadata": {},
     "output_type": "execute_result"
    }
   ],
   "source": [
    "# Filter out outliers\n",
    "data = data[~((data['Price'] < (lb)) | (data['Price'] > (ub)))]\n",
    "data.head()"
   ]
  },
  {
   "cell_type": "code",
   "execution_count": 19,
   "id": "a17549a5",
   "metadata": {},
   "outputs": [],
   "source": [
    "import seaborn as sns"
   ]
  },
  {
   "cell_type": "code",
   "execution_count": 20,
   "id": "a2061bd1",
   "metadata": {},
   "outputs": [
    {
     "data": {
      "text/plain": [
       "<Axes: >"
      ]
     },
     "execution_count": 20,
     "metadata": {},
     "output_type": "execute_result"
    },
    {
     "data": {
      "image/png": "[encoded data removed]",
      "text/plain": [
       "<Figure size 640x480 with 1 Axes>"
      ]
     },
     "metadata": {},
     "output_type": "display_data"
    }
   ],
   "source": [
    "#To visualise outliers we can use seaborn library and use boxplot chart\n",
    "sns.boxplot(data[\"Price\"])"
   ]
  },
  {
   "cell_type": "markdown",
   "id": "ef80f60f",
   "metadata": {},
   "source": [
    "### 8. In cases where categorical variables are present, how can they be encoded using appropriate techniques?\n"
   ]
  },
  {
   "cell_type": "code",
   "execution_count": 21,
   "id": "5c1a779a",
   "metadata": {},
   "outputs": [
    {
     "data": {
      "text/plain": [
       "array(['Windows 11 OS', 'DOS OS', 'Ubuntu OS', 'Windows 10 OS',\n",
       "       'DOS 3.0 OS', 'Mac 10.15.3\\t OS', 'Chrome OS'], dtype=object)"
      ]
     },
     "execution_count": 21,
     "metadata": {},
     "output_type": "execute_result"
    }
   ],
   "source": [
    "data[\"Operating_system\"].unique()"
   ]
  },
  {
   "cell_type": "code",
   "execution_count": 22,
   "id": "15f0c78c",
   "metadata": {},
   "outputs": [
    {
     "data": {
      "text/html": [
       "<div>\n",
       "<style scoped>\n",
       "    .dataframe tbody tr th:only-of-type {\n",
       "        vertical-align: middle;\n",
       "    }\n",
       "\n",
       "    .dataframe tbody tr th {\n",
       "        vertical-align: top;\n",
       "    }\n",
       "\n",
       "    .dataframe thead th {\n",
       "        text-align: right;\n",
       "    }\n",
       "</style>\n",
       "<table border=\"1\" class=\"dataframe\">\n",
       "  <thead>\n",
       "    <tr style=\"text-align: right;\">\n",
       "      <th></th>\n",
       "      <th>Name</th>\n",
       "      <th>Brand</th>\n",
       "      <th>Price</th>\n",
       "      <th>Rating</th>\n",
       "      <th>Processor_brand</th>\n",
       "      <th>Processor_gen</th>\n",
       "      <th>Core_per_processor</th>\n",
       "      <th>Energy_Efficient_Units</th>\n",
       "      <th>RAM_GB</th>\n",
       "      <th>RAM_type</th>\n",
       "      <th>Storage_capacity_GB</th>\n",
       "      <th>Storage_type</th>\n",
       "      <th>Graphics_brand</th>\n",
       "      <th>Display_size_inches</th>\n",
       "      <th>Horizontal_pixel</th>\n",
       "      <th>Vertical_pixel</th>\n",
       "      <th>Touch_screen</th>\n",
       "      <th>Operating_system</th>\n",
       "    </tr>\n",
       "  </thead>\n",
       "  <tbody>\n",
       "    <tr>\n",
       "      <th>0</th>\n",
       "      <td>470</td>\n",
       "      <td>10</td>\n",
       "      <td>50399</td>\n",
       "      <td>4.30</td>\n",
       "      <td>0</td>\n",
       "      <td>5.0</td>\n",
       "      <td>6.0</td>\n",
       "      <td>0</td>\n",
       "      <td>8</td>\n",
       "      <td>0</td>\n",
       "      <td>512</td>\n",
       "      <td>1</td>\n",
       "      <td>0</td>\n",
       "      <td>15.6</td>\n",
       "      <td>1920</td>\n",
       "      <td>1080</td>\n",
       "      <td>True</td>\n",
       "      <td>6</td>\n",
       "    </tr>\n",
       "    <tr>\n",
       "      <th>1</th>\n",
       "      <td>695</td>\n",
       "      <td>14</td>\n",
       "      <td>26690</td>\n",
       "      <td>4.45</td>\n",
       "      <td>0</td>\n",
       "      <td>7.0</td>\n",
       "      <td>4.0</td>\n",
       "      <td>0</td>\n",
       "      <td>8</td>\n",
       "      <td>6</td>\n",
       "      <td>512</td>\n",
       "      <td>1</td>\n",
       "      <td>0</td>\n",
       "      <td>15.6</td>\n",
       "      <td>1920</td>\n",
       "      <td>1080</td>\n",
       "      <td>False</td>\n",
       "      <td>6</td>\n",
       "    </tr>\n",
       "    <tr>\n",
       "      <th>2</th>\n",
       "      <td>337</td>\n",
       "      <td>10</td>\n",
       "      <td>37012</td>\n",
       "      <td>4.65</td>\n",
       "      <td>1</td>\n",
       "      <td>12.0</td>\n",
       "      <td>6.0</td>\n",
       "      <td>0</td>\n",
       "      <td>8</td>\n",
       "      <td>0</td>\n",
       "      <td>512</td>\n",
       "      <td>1</td>\n",
       "      <td>1</td>\n",
       "      <td>15.6</td>\n",
       "      <td>1920</td>\n",
       "      <td>1080</td>\n",
       "      <td>False</td>\n",
       "      <td>6</td>\n",
       "    </tr>\n",
       "    <tr>\n",
       "      <th>3</th>\n",
       "      <td>792</td>\n",
       "      <td>18</td>\n",
       "      <td>69990</td>\n",
       "      <td>4.75</td>\n",
       "      <td>1</td>\n",
       "      <td>12.0</td>\n",
       "      <td>12.0</td>\n",
       "      <td>0</td>\n",
       "      <td>16</td>\n",
       "      <td>6</td>\n",
       "      <td>512</td>\n",
       "      <td>1</td>\n",
       "      <td>1</td>\n",
       "      <td>13.3</td>\n",
       "      <td>1080</td>\n",
       "      <td>1920</td>\n",
       "      <td>False</td>\n",
       "      <td>6</td>\n",
       "    </tr>\n",
       "    <tr>\n",
       "      <th>4</th>\n",
       "      <td>794</td>\n",
       "      <td>19</td>\n",
       "      <td>23990</td>\n",
       "      <td>4.25</td>\n",
       "      <td>1</td>\n",
       "      <td>11.0</td>\n",
       "      <td>2.0</td>\n",
       "      <td>0</td>\n",
       "      <td>8</td>\n",
       "      <td>4</td>\n",
       "      <td>512</td>\n",
       "      <td>1</td>\n",
       "      <td>1</td>\n",
       "      <td>15.6</td>\n",
       "      <td>1920</td>\n",
       "      <td>1080</td>\n",
       "      <td>False</td>\n",
       "      <td>6</td>\n",
       "    </tr>\n",
       "  </tbody>\n",
       "</table>\n",
       "</div>"
      ],
      "text/plain": [
       "   Name  Brand  Price  Rating  Processor_brand  Processor_gen  \\\n",
       "0   470     10  50399    4.30                0            5.0   \n",
       "1   695     14  26690    4.45                0            7.0   \n",
       "2   337     10  37012    4.65                1           12.0   \n",
       "3   792     18  69990    4.75                1           12.0   \n",
       "4   794     19  23990    4.25                1           11.0   \n",
       "\n",
       "   Core_per_processor  Energy_Efficient_Units  RAM_GB  RAM_type  \\\n",
       "0                 6.0                       0       8         0   \n",
       "1                 4.0                       0       8         6   \n",
       "2                 6.0                       0       8         0   \n",
       "3                12.0                       0      16         6   \n",
       "4                 2.0                       0       8         4   \n",
       "\n",
       "   Storage_capacity_GB  Storage_type  Graphics_brand  Display_size_inches  \\\n",
       "0                  512             1               0                 15.6   \n",
       "1                  512             1               0                 15.6   \n",
       "2                  512             1               1                 15.6   \n",
       "3                  512             1               1                 13.3   \n",
       "4                  512             1               1                 15.6   \n",
       "\n",
       "   Horizontal_pixel  Vertical_pixel  Touch_screen  Operating_system  \n",
       "0              1920            1080          True                 6  \n",
       "1              1920            1080         False                 6  \n",
       "2              1920            1080         False                 6  \n",
       "3              1080            1920         False                 6  \n",
       "4              1920            1080         False                 6  "
      ]
     },
     "execution_count": 22,
     "metadata": {},
     "output_type": "execute_result"
    }
   ],
   "source": [
    "# We can encode data using LabelEncoder\n",
    "from sklearn.preprocessing import LabelEncoder\n",
    "label = LabelEncoder()\n",
    "data['Operating_system'] = label.fit_transform(data['Operating_system'])\n",
    "data['Brand'] = label.fit_transform(data['Brand'])\n",
    "data['Name'] = label.fit_transform(data['Name'])\n",
    "data['RAM_type'] = label.fit_transform(data['RAM_type'])\n",
    "data['Storage_type'] = label.fit_transform(data['Storage_type'])\n",
    "data['Graphics_brand'] = label.fit_transform(data['Graphics_brand'])\n",
    "data['Processor_brand'] = label.fit_transform(data['Processor_brand'])\n",
    "data.head()"
   ]
  },
  {
   "cell_type": "markdown",
   "id": "eba391ba",
   "metadata": {},
   "source": [
    "### 9. When necessary, how can the data be scaled using appropriate scaling techniques?\n"
   ]
  },
  {
   "cell_type": "code",
   "execution_count": 23,
   "id": "ab1fe9e4",
   "metadata": {},
   "outputs": [
    {
     "data": {
      "text/html": [
       "<div>\n",
       "<style scoped>\n",
       "    .dataframe tbody tr th:only-of-type {\n",
       "        vertical-align: middle;\n",
       "    }\n",
       "\n",
       "    .dataframe tbody tr th {\n",
       "        vertical-align: top;\n",
       "    }\n",
       "\n",
       "    .dataframe thead th {\n",
       "        text-align: right;\n",
       "    }\n",
       "</style>\n",
       "<table border=\"1\" class=\"dataframe\">\n",
       "  <thead>\n",
       "    <tr style=\"text-align: right;\">\n",
       "      <th></th>\n",
       "      <th>Name</th>\n",
       "      <th>Brand</th>\n",
       "      <th>Price</th>\n",
       "      <th>Rating</th>\n",
       "      <th>Processor_brand</th>\n",
       "      <th>Processor_gen</th>\n",
       "      <th>Core_per_processor</th>\n",
       "      <th>Energy_Efficient_Units</th>\n",
       "      <th>RAM_GB</th>\n",
       "      <th>RAM_type</th>\n",
       "      <th>Storage_capacity_GB</th>\n",
       "      <th>Storage_type</th>\n",
       "      <th>Graphics_brand</th>\n",
       "      <th>Display_size_inches</th>\n",
       "      <th>Horizontal_pixel</th>\n",
       "      <th>Vertical_pixel</th>\n",
       "      <th>Touch_screen</th>\n",
       "      <th>Operating_system</th>\n",
       "    </tr>\n",
       "  </thead>\n",
       "  <tbody>\n",
       "    <tr>\n",
       "      <th>0</th>\n",
       "      <td>470</td>\n",
       "      <td>10</td>\n",
       "      <td>0.230933</td>\n",
       "      <td>4.30</td>\n",
       "      <td>0</td>\n",
       "      <td>5.0</td>\n",
       "      <td>6.0</td>\n",
       "      <td>0</td>\n",
       "      <td>0.142857</td>\n",
       "      <td>0</td>\n",
       "      <td>0.205128</td>\n",
       "      <td>1</td>\n",
       "      <td>0</td>\n",
       "      <td>15.6</td>\n",
       "      <td>0.396226</td>\n",
       "      <td>0.174107</td>\n",
       "      <td>True</td>\n",
       "      <td>6</td>\n",
       "    </tr>\n",
       "    <tr>\n",
       "      <th>1</th>\n",
       "      <td>695</td>\n",
       "      <td>14</td>\n",
       "      <td>0.056614</td>\n",
       "      <td>4.45</td>\n",
       "      <td>0</td>\n",
       "      <td>7.0</td>\n",
       "      <td>4.0</td>\n",
       "      <td>0</td>\n",
       "      <td>0.142857</td>\n",
       "      <td>6</td>\n",
       "      <td>0.205128</td>\n",
       "      <td>1</td>\n",
       "      <td>0</td>\n",
       "      <td>15.6</td>\n",
       "      <td>0.396226</td>\n",
       "      <td>0.174107</td>\n",
       "      <td>False</td>\n",
       "      <td>6</td>\n",
       "    </tr>\n",
       "    <tr>\n",
       "      <th>2</th>\n",
       "      <td>337</td>\n",
       "      <td>10</td>\n",
       "      <td>0.132506</td>\n",
       "      <td>4.65</td>\n",
       "      <td>1</td>\n",
       "      <td>12.0</td>\n",
       "      <td>6.0</td>\n",
       "      <td>0</td>\n",
       "      <td>0.142857</td>\n",
       "      <td>0</td>\n",
       "      <td>0.205128</td>\n",
       "      <td>1</td>\n",
       "      <td>1</td>\n",
       "      <td>15.6</td>\n",
       "      <td>0.396226</td>\n",
       "      <td>0.174107</td>\n",
       "      <td>False</td>\n",
       "      <td>6</td>\n",
       "    </tr>\n",
       "    <tr>\n",
       "      <th>3</th>\n",
       "      <td>792</td>\n",
       "      <td>18</td>\n",
       "      <td>0.374975</td>\n",
       "      <td>4.75</td>\n",
       "      <td>1</td>\n",
       "      <td>12.0</td>\n",
       "      <td>12.0</td>\n",
       "      <td>0</td>\n",
       "      <td>0.428571</td>\n",
       "      <td>6</td>\n",
       "      <td>0.205128</td>\n",
       "      <td>1</td>\n",
       "      <td>1</td>\n",
       "      <td>13.3</td>\n",
       "      <td>0.000000</td>\n",
       "      <td>0.642857</td>\n",
       "      <td>False</td>\n",
       "      <td>6</td>\n",
       "    </tr>\n",
       "    <tr>\n",
       "      <th>4</th>\n",
       "      <td>794</td>\n",
       "      <td>19</td>\n",
       "      <td>0.036762</td>\n",
       "      <td>4.25</td>\n",
       "      <td>1</td>\n",
       "      <td>11.0</td>\n",
       "      <td>2.0</td>\n",
       "      <td>0</td>\n",
       "      <td>0.142857</td>\n",
       "      <td>4</td>\n",
       "      <td>0.205128</td>\n",
       "      <td>1</td>\n",
       "      <td>1</td>\n",
       "      <td>15.6</td>\n",
       "      <td>0.396226</td>\n",
       "      <td>0.174107</td>\n",
       "      <td>False</td>\n",
       "      <td>6</td>\n",
       "    </tr>\n",
       "  </tbody>\n",
       "</table>\n",
       "</div>"
      ],
      "text/plain": [
       "   Name  Brand     Price  Rating  Processor_brand  Processor_gen  \\\n",
       "0   470     10  0.230933    4.30                0            5.0   \n",
       "1   695     14  0.056614    4.45                0            7.0   \n",
       "2   337     10  0.132506    4.65                1           12.0   \n",
       "3   792     18  0.374975    4.75                1           12.0   \n",
       "4   794     19  0.036762    4.25                1           11.0   \n",
       "\n",
       "   Core_per_processor  Energy_Efficient_Units    RAM_GB  RAM_type  \\\n",
       "0                 6.0                       0  0.142857         0   \n",
       "1                 4.0                       0  0.142857         6   \n",
       "2                 6.0                       0  0.142857         0   \n",
       "3                12.0                       0  0.428571         6   \n",
       "4                 2.0                       0  0.142857         4   \n",
       "\n",
       "   Storage_capacity_GB  Storage_type  Graphics_brand  Display_size_inches  \\\n",
       "0             0.205128             1               0                 15.6   \n",
       "1             0.205128             1               0                 15.6   \n",
       "2             0.205128             1               1                 15.6   \n",
       "3             0.205128             1               1                 13.3   \n",
       "4             0.205128             1               1                 15.6   \n",
       "\n",
       "   Horizontal_pixel  Vertical_pixel  Touch_screen  Operating_system  \n",
       "0          0.396226        0.174107          True                 6  \n",
       "1          0.396226        0.174107         False                 6  \n",
       "2          0.396226        0.174107         False                 6  \n",
       "3          0.000000        0.642857         False                 6  \n",
       "4          0.396226        0.174107         False                 6  "
      ]
     },
     "execution_count": 23,
     "metadata": {},
     "output_type": "execute_result"
    }
   ],
   "source": [
    "from sklearn.preprocessing import MinMaxScaler\n",
    "\n",
    "scaler = MinMaxScaler()\n",
    "\n",
    "# List of numerical columns that need to be scaled\n",
    "columns_to_scale = ['Price', 'RAM_GB', 'Storage_capacity_GB', 'Horizontal_pixel', 'Vertical_pixel']\n",
    "\n",
    "# we can fit the scaler and transform the data\n",
    "data[columns_to_scale] = scaler.fit_transform(data[columns_to_scale])\n",
    "\n",
    "data.head()\n"
   ]
  },
  {
   "cell_type": "markdown",
   "id": "b8be806d",
   "metadata": {},
   "source": [
    "### 10. How can the dataset be divided into predictors and target variables?\n"
   ]
  },
  {
   "cell_type": "code",
   "execution_count": 24,
   "id": "2644e697",
   "metadata": {},
   "outputs": [],
   "source": [
    "# here we can devide\n",
    "# predictors\n",
    "x = data.drop('Price', axis=1)\n",
    "\n",
    "# target variable\n",
    "y = data['Price']\n",
    "\n",
    "# x # we have to predict based on this data\n",
    "# y # we have to predict price based on x data"
   ]
  },
  {
   "cell_type": "markdown",
   "id": "ebb3db4e",
   "metadata": {},
   "source": [
    "### 11. What is the recommended approach for dividing the dataset into training and testing sets?\n"
   ]
  },
  {
   "cell_type": "code",
   "execution_count": 25,
   "id": "37840d7b",
   "metadata": {},
   "outputs": [],
   "source": [
    "# here we can use train_test_split for dividing the dataset into training and testing sets\n",
    "\n",
    "from sklearn.model_selection import train_test_split\n",
    "\n",
    "x_train, x_test, y_train, y_test = train_test_split(x, y, test_size=0.2, random_state=42)"
   ]
  },
  {
   "cell_type": "markdown",
   "id": "a35e1afe",
   "metadata": {},
   "source": [
    "### 12. Which machine learning model is most suitable for training the data, considering its characteristics?\n"
   ]
  },
  {
   "cell_type": "code",
   "execution_count": 58,
   "id": "841c179a",
   "metadata": {
    "scrolled": false
   },
   "outputs": [
    {
     "data": {
      "text/html": [
       "<style>#sk-container-id-4 {color: black;background-color: white;}#sk-container-id-4 pre{padding: 0;}#sk-container-id-4 div.sk-toggleable {background-color: white;}#sk-container-id-4 label.sk-toggleable__label {cursor: pointer;display: block;width: 100%;margin-bottom: 0;padding: 0.3em;box-sizing: border-box;text-align: center;}#sk-container-id-4 label.sk-toggleable__label-arrow:before {content: \"▸\";float: left;margin-right: 0.25em;color: #696969;}#sk-container-id-4 label.sk-toggleable__label-arrow:hover:before {color: black;}#sk-container-id-4 div.sk-estimator:hover label.sk-toggleable__label-arrow:before {color: black;}#sk-container-id-4 div.sk-toggleable__content {max-height: 0;max-width: 0;overflow: hidden;text-align: left;background-color: #f0f8ff;}#sk-container-id-4 div.sk-toggleable__content pre {margin: 0.2em;color: black;border-radius: 0.25em;background-color: #f0f8ff;}#sk-container-id-4 input.sk-toggleable__control:checked~div.sk-toggleable__content {max-height: 200px;max-width: 100%;overflow: auto;}#sk-container-id-4 input.sk-toggleable__control:checked~label.sk-toggleable__label-arrow:before {content: \"▾\";}#sk-container-id-4 div.sk-estimator input.sk-toggleable__control:checked~label.sk-toggleable__label {background-color: #d4ebff;}#sk-container-id-4 div.sk-label input.sk-toggleable__control:checked~label.sk-toggleable__label {background-color: #d4ebff;}#sk-container-id-4 input.sk-hidden--visually {border: 0;clip: rect(1px 1px 1px 1px);clip: rect(1px, 1px, 1px, 1px);height: 1px;margin: -1px;overflow: hidden;padding: 0;position: absolute;width: 1px;}#sk-container-id-4 div.sk-estimator {font-family: monospace;background-color: #f0f8ff;border: 1px dotted black;border-radius: 0.25em;box-sizing: border-box;margin-bottom: 0.5em;}#sk-container-id-4 div.sk-estimator:hover {background-color: #d4ebff;}#sk-container-id-4 div.sk-parallel-item::after {content: \"\";width: 100%;border-bottom: 1px solid gray;flex-grow: 1;}#sk-container-id-4 div.sk-label:hover label.sk-toggleable__label {background-color: #d4ebff;}#sk-container-id-4 div.sk-serial::before {content: \"\";position: absolute;border-left: 1px solid gray;box-sizing: border-box;top: 0;bottom: 0;left: 50%;z-index: 0;}#sk-container-id-4 div.sk-serial {display: flex;flex-direction: column;align-items: center;background-color: white;padding-right: 0.2em;padding-left: 0.2em;position: relative;}#sk-container-id-4 div.sk-item {position: relative;z-index: 1;}#sk-container-id-4 div.sk-parallel {display: flex;align-items: stretch;justify-content: center;background-color: white;position: relative;}#sk-container-id-4 div.sk-item::before, #sk-container-id-4 div.sk-parallel-item::before {content: \"\";position: absolute;border-left: 1px solid gray;box-sizing: border-box;top: 0;bottom: 0;left: 50%;z-index: -1;}#sk-container-id-4 div.sk-parallel-item {display: flex;flex-direction: column;z-index: 1;position: relative;background-color: white;}#sk-container-id-4 div.sk-parallel-item:first-child::after {align-self: flex-end;width: 50%;}#sk-container-id-4 div.sk-parallel-item:last-child::after {align-self: flex-start;width: 50%;}#sk-container-id-4 div.sk-parallel-item:only-child::after {width: 0;}#sk-container-id-4 div.sk-dashed-wrapped {border: 1px dashed gray;margin: 0 0.4em 0.5em 0.4em;box-sizing: border-box;padding-bottom: 0.4em;background-color: white;}#sk-container-id-4 div.sk-label label {font-family: monospace;font-weight: bold;display: inline-block;line-height: 1.2em;}#sk-container-id-4 div.sk-label-container {text-align: center;}#sk-container-id-4 div.sk-container {/* jupyter's `normalize.less` sets `[hidden] { display: none; }` but bootstrap.min.css set `[hidden] { display: none !important; }` so we also need the `!important` here to be able to override the default hidden behavior on the sphinx rendered scikit-learn.org. See: https://github.com/scikit-learn/scikit-learn/issues/21755 */display: inline-block !important;position: relative;}#sk-container-id-4 div.sk-text-repr-fallback {display: none;}</style><div id=\"sk-container-id-4\" class=\"sk-top-container\"><div class=\"sk-text-repr-fallback\"><pre>LinearRegression()</pre><b>In a Jupyter environment, please rerun this cell to show the HTML representation or trust the notebook. <br />On GitHub, the HTML representation is unable to render, please try loading this page with nbviewer.org.</b></div><div class=\"sk-container\" hidden><div class=\"sk-item\"><div class=\"sk-estimator sk-toggleable\"><input class=\"sk-toggleable__control sk-hidden--visually\" id=\"sk-estimator-id-4\" type=\"checkbox\" checked><label for=\"sk-estimator-id-4\" class=\"sk-toggleable__label sk-toggleable__label-arrow\">LinearRegression</label><div class=\"sk-toggleable__content\"><pre>LinearRegression()</pre></div></div></div></div></div>"
      ],
      "text/plain": [
       "LinearRegression()"
      ]
     },
     "execution_count": 58,
     "metadata": {},
     "output_type": "execute_result"
    }
   ],
   "source": [
    "# This is a regression problem. So we can use LinearRegression model and also we can use other regression models.\n",
    "\n",
    "from sklearn.linear_model import LinearRegression\n",
    "\n",
    "model = LinearRegression()\n",
    "model.fit(x_train,y_train)"
   ]
  },
  {
   "cell_type": "code",
   "execution_count": 42,
   "id": "abed4d99",
   "metadata": {},
   "outputs": [
    {
     "name": "stdout",
     "output_type": "stream",
     "text": [
      "Non-numeric columns: Index([], dtype='object')\n"
     ]
    }
   ],
   "source": [
    "non_numeric_columns = data.select_dtypes(include=['object']).columns\n",
    "print(\"Non-numeric columns:\", non_numeric_columns)"
   ]
  },
  {
   "cell_type": "code",
   "execution_count": 43,
   "id": "9613e40d",
   "metadata": {},
   "outputs": [
    {
     "name": "stdout",
     "output_type": "stream",
     "text": [
      "Non-numeric columns after encoding: Index([], dtype='object')\n"
     ]
    }
   ],
   "source": [
    "encoded_data = pd.get_dummies(data, columns=['Brand', 'Processor_brand', 'Operating_system'])\n",
    "\n",
    "# Drop unnecessary columns (if any)\n",
    "# encoded_data = encoded_data.drop(['Honor MagicBook X14 2023 \\u200eFRI-F56 Laptop (12th Gen Core i5/ 16GB/ 512GB SSD/ Win11 Home)'], axis=1)\n",
    "\n",
    "# Check if there are still non-numeric columns\n",
    "non_numeric_columns = encoded_data.select_dtypes(include=['object']).columns\n",
    "print(\"Non-numeric columns after encoding:\", non_numeric_columns)"
   ]
  },
  {
   "cell_type": "markdown",
   "id": "08bbb600",
   "metadata": {},
   "source": [
    "### 13. How can the accuracy of the trained model be evaluated to determine its effectiveness?\n"
   ]
  },
  {
   "cell_type": "code",
   "execution_count": 108,
   "id": "4c0f2b7a",
   "metadata": {},
   "outputs": [],
   "source": [
    "# we can use mean_squared_error, r2_score"
   ]
  },
  {
   "cell_type": "code",
   "execution_count": 59,
   "id": "c26402b8",
   "metadata": {},
   "outputs": [
    {
     "data": {
      "text/plain": [
       "0.013383153306639408"
      ]
     },
     "execution_count": 59,
     "metadata": {},
     "output_type": "execute_result"
    }
   ],
   "source": [
    "from sklearn.metrics import mean_squared_error, r2_score\n",
    "\n",
    "y_pred = model.predict(x_test)\n",
    "mse = mean_squared_error(y_test, y_pred)\n",
    "mse"
   ]
  },
  {
   "cell_type": "code",
   "execution_count": 60,
   "id": "912e497f",
   "metadata": {},
   "outputs": [
    {
     "data": {
      "text/plain": [
       "0.7092344484163249"
      ]
     },
     "execution_count": 60,
     "metadata": {},
     "output_type": "execute_result"
    }
   ],
   "source": [
    "r2 = r2_score(y_test, y_pred)\n",
    "r2"
   ]
  },
  {
   "cell_type": "code",
   "execution_count": 61,
   "id": "c65d9849",
   "metadata": {},
   "outputs": [
    {
     "data": {
      "text/plain": [
       "0.6852458179802718"
      ]
     },
     "execution_count": 61,
     "metadata": {},
     "output_type": "execute_result"
    }
   ],
   "source": [
    "from sklearn.model_selection import cross_val_score\n",
    "cv_scores = cross_val_score(model, x_train, y_train, cv=5, scoring='r2')\n",
    "cv_scores.mean()"
   ]
  }
 ],
 "metadata": {
  "kernelspec": {
   "display_name": "Python 3 (ipykernel)",
   "language": "python",
   "name": "python3"
  },
  "language_info": {
   "codemirror_mode": {
    "name": "ipython",
    "version": 3
   },
   "file_extension": ".py",
   "mimetype": "text/x-python",
   "name": "python",
   "nbconvert_exporter": "python",
   "pygments_lexer": "ipython3",
   "version": "3.11.7"
  }
 },
 "nbformat": 4,
 "nbformat_minor": 5
}
